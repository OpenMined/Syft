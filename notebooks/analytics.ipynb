{
 "cells": [
  {
   "cell_type": "code",
   "execution_count": null,
   "id": "0",
   "metadata": {},
   "outputs": [],
   "source": [
    "from pathlib import Path\n",
    "\n",
    "from syftbox.server.analytics import parse_analytics_logs"
   ]
  },
  {
   "cell_type": "markdown",
   "id": "1",
   "metadata": {},
   "source": [
    "# Load logs"
   ]
  },
  {
   "cell_type": "code",
   "execution_count": null,
   "id": "2",
   "metadata": {},
   "outputs": [],
   "source": [
    "logs_dir = Path(\"/Users/eelco/dev/syft/.server/data/logs/\")\n",
    "\n",
    "logs = parse_analytics_logs(logs_dir)"
   ]
  },
  {
   "cell_type": "markdown",
   "id": "3",
   "metadata": {
    "jp-MarkdownHeadingCollapsed": true
   },
   "source": [
    "# Calculate metrics"
   ]
  },
  {
   "cell_type": "code",
   "execution_count": null,
   "id": "4",
   "metadata": {},
   "outputs": [],
   "source": [
    "from collections import defaultdict\n",
    "\n",
    "latest_events_per_user = defaultdict(lambda: dict())\n",
    "\n",
    "for log in logs:\n",
    "    # /log_events are events from the client, we use the event_name instead of the endpoint name\n",
    "    if log[\"endpoint\"] == \"/log_event\":\n",
    "        latest_events_per_user[log[\"email\"]][log[\"event_name\"]] = log\n",
    "    latest_events_per_user[log[\"email\"]][log[\"endpoint\"]] = log\n",
    "latest_events_per_user = dict(latest_events_per_user)"
   ]
  },
  {
   "cell_type": "code",
   "execution_count": null,
   "id": "5",
   "metadata": {},
   "outputs": [],
   "source": [
    "import pandas as pd\n",
    "\n",
    "\n",
    "def create_user_metrics(latest_events_per_user):\n",
    "    metrics = []\n",
    "\n",
    "    for user, endpoints in latest_events_per_user.items():\n",
    "        user_data = {\"user\": user}\n",
    "\n",
    "        # Add a column for each endpoint with its last access date\n",
    "        for endpoint_name, event in endpoints.items():\n",
    "            user_data[endpoint_name] = event[\"timestamp\"]\n",
    "\n",
    "        # Calculate last_seen as the maximum date across all endpoints for this user\n",
    "        last_seen_date = max(event[\"timestamp\"] for event in endpoints.values())\n",
    "        user_data[\"last_seen\"] = last_seen_date\n",
    "\n",
    "        # Calculate last_file_modification as the maximum date among specified endpoints\n",
    "        modification_endpoints = [\"/sync/create\", \"/sync/delete\", \"/sync/apply_diff\"]\n",
    "        last_file_modification_date = max(\n",
    "            (event[\"timestamp\"] for name, event in endpoints.items() if name in modification_endpoints), default=None\n",
    "        )\n",
    "        user_data[\"last_file_event\"] = last_file_modification_date\n",
    "\n",
    "        metrics.append(user_data)\n",
    "\n",
    "    # Convert to DataFrame, setting user as the index\n",
    "    df = pd.DataFrame(metrics).set_index(\"user\")\n",
    "    return df\n",
    "\n",
    "\n",
    "user_metrics = create_user_metrics(latest_events_per_user)"
   ]
  },
  {
   "cell_type": "code",
   "execution_count": null,
   "id": "6",
   "metadata": {},
   "outputs": [],
   "source": [
    "from datetime import datetime, timedelta, timezone\n",
    "\n",
    "\n",
    "def calculate_metrics_with_start_date(user_metrics, start_date):\n",
    "    return {\n",
    "        \"number of users that registered\": user_metrics[\"/register\"].ge(start_date).sum(),\n",
    "        \"number of users that connected to server\": user_metrics[\"last_seen\"].ge(start_date).sum(),\n",
    "        \"number of users that created, modified, or deleted a file\": user_metrics[\"last_file_event\"]\n",
    "        .ge(start_date)\n",
    "        .sum(),\n",
    "        \"number of users that installed an app\": user_metrics[\"app_install\"].ge(start_date).sum(),\n",
    "    }\n",
    "\n",
    "\n",
    "def calculate_global_metrics(user_metrics):\n",
    "    today = datetime.now(timezone.utc)\n",
    "    one_day_ago = today - timedelta(days=1)\n",
    "    one_week_ago = today - timedelta(weeks=1)\n",
    "    one_month_ago = today - timedelta(days=30)\n",
    "\n",
    "    metrics = {\n",
    "        \"1 day\": calculate_metrics_with_start_date(user_metrics, one_day_ago),\n",
    "        \"1 week\": calculate_metrics_with_start_date(user_metrics, one_week_ago),\n",
    "        \"1 month\": calculate_metrics_with_start_date(user_metrics, one_month_ago),\n",
    "    }\n",
    "\n",
    "    return pd.DataFrame(metrics)\n",
    "\n",
    "\n",
    "global_metrics = calculate_global_metrics(user_metrics)"
   ]
  },
  {
   "cell_type": "markdown",
   "id": "7",
   "metadata": {},
   "source": [
    "# Display results\n",
    "\n",
    "| Metric                  | Description                                                                |\n",
    "|-------------------------|----------------------------------------------------------------------------|\n",
    "| `/register`         | Timestamp of when the user registered.                                     |\n",
    "| `app_install`           | Timestamp of most recent app install by the user.                       |\n",
    "| `/log_event`      | Last client-side log event recorded for the user.                          |\n",
    "| `last_seen`             | Timestamp of the user's most recent activity across all tracked events.    |\n",
    "| `last_file_event`    | Most recent timestamp of any file-related activity (creation/modification/deletion). |\n",
    "| `/sync/create`     | Timestamp of the last file created by the user.                            |\n",
    "| `/sync/get_metadata`| Timestamp of the last time file metadata was accessed by the user.         |\n",
    "| `/sync/apply_diff`    | Timestamp of the last file modification by the user                   |\n",
    "| `/sync/delete`     | Timestamp of the last file deletion by the user.                           |"
   ]
  },
  {
   "cell_type": "code",
   "execution_count": null,
   "id": "8",
   "metadata": {},
   "outputs": [],
   "source": [
    "user_metrics"
   ]
  },
  {
   "cell_type": "code",
   "execution_count": null,
   "id": "9",
   "metadata": {},
   "outputs": [],
   "source": [
    "global_metrics"
   ]
  }
 ],
 "metadata": {
  "kernelspec": {
   "display_name": "Python 3 (ipykernel)",
   "language": "python",
   "name": "python3"
  },
  "language_info": {
   "codemirror_mode": {
    "name": "ipython",
    "version": 3
   },
   "file_extension": ".py",
   "mimetype": "text/x-python",
   "name": "python",
   "nbconvert_exporter": "python",
   "pygments_lexer": "ipython3",
   "version": "3.12.6"
  }
 },
 "nbformat": 4,
 "nbformat_minor": 5
}
